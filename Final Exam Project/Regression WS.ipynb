{
 "cells": [
  {
   "cell_type": "markdown",
   "metadata": {},
   "source": [
    "## Regression"
   ]
  },
  {
   "cell_type": "code",
   "execution_count": 1,
   "metadata": {},
   "outputs": [],
   "source": [
    "import pandas as pd\n",
    "import numpy as np\n",
    "import matplotlib.pyplot as plt\n",
    "import seaborn as sns\n",
    "from sklearn.linear_model import LinearRegression, Lasso, Ridge\n",
    "from sklearn.model_selection import train_test_split\n",
    "from sklearn.preprocessing import StandardScaler\n",
    "from sklearn.metrics import r2_score, mean_squared_error, mean_absolute_error\n"
   ]
  },
  {
   "cell_type": "markdown",
   "metadata": {},
   "source": [
    "#### Loading the Data"
   ]
  },
  {
   "cell_type": "code",
   "execution_count": 2,
   "metadata": {},
   "outputs": [
    {
     "name": "stdout",
     "output_type": "stream",
     "text": [
      "<class 'pandas.core.frame.DataFrame'>\n",
      "Index: 120 entries, 2008M01 to 2017M12\n",
      "Data columns (total 14 columns):\n",
      " #   Column                                   Non-Null Count  Dtype  \n",
      "---  ------                                   --------------  -----  \n",
      " 0   ZAR/USD                                  120 non-null    float64\n",
      " 1   Value of Exports (USD)                   120 non-null    float64\n",
      " 2   Value of Exports (ZAR)                   120 non-null    float64\n",
      " 3   Value of Imports (USD)                   120 non-null    float64\n",
      " 4   Value of Imports (ZAR)                   120 non-null    float64\n",
      " 5   IMF Reserve Position (USD)               120 non-null    float64\n",
      " 6   Foreign Exchange (USD)                   120 non-null    float64\n",
      " 7   Claims on Non-residents (USD)            120 non-null    float64\n",
      " 8   Liabilities to Non-residents (USD)       120 non-null    float64\n",
      " 9   Savings Rate                             120 non-null    float64\n",
      " 10  Lending Rate                             120 non-null    float64\n",
      " 11  Government Bonds                         120 non-null    float64\n",
      " 12  Financial Market Prices, Equities Index  120 non-null    float64\n",
      " 13  Consumer Price Index                     120 non-null    float64\n",
      "dtypes: float64(14)\n",
      "memory usage: 14.1+ KB\n"
     ]
    },
    {
     "data": {
      "text/html": [
       "<div>\n",
       "<style scoped>\n",
       "    .dataframe tbody tr th:only-of-type {\n",
       "        vertical-align: middle;\n",
       "    }\n",
       "\n",
       "    .dataframe tbody tr th {\n",
       "        vertical-align: top;\n",
       "    }\n",
       "\n",
       "    .dataframe thead th {\n",
       "        text-align: right;\n",
       "    }\n",
       "</style>\n",
       "<table border=\"1\" class=\"dataframe\">\n",
       "  <thead>\n",
       "    <tr style=\"text-align: right;\">\n",
       "      <th></th>\n",
       "      <th>count</th>\n",
       "      <th>mean</th>\n",
       "      <th>std</th>\n",
       "      <th>min</th>\n",
       "      <th>25%</th>\n",
       "      <th>50%</th>\n",
       "      <th>75%</th>\n",
       "      <th>max</th>\n",
       "    </tr>\n",
       "  </thead>\n",
       "  <tbody>\n",
       "    <tr>\n",
       "      <th>ZAR/USD</th>\n",
       "      <td>120.0</td>\n",
       "      <td>10.083667</td>\n",
       "      <td>2.651753</td>\n",
       "      <td>6.74</td>\n",
       "      <td>7.6600</td>\n",
       "      <td>9.820</td>\n",
       "      <td>12.3400</td>\n",
       "      <td>16.37</td>\n",
       "    </tr>\n",
       "    <tr>\n",
       "      <th>Value of Exports (USD)</th>\n",
       "      <td>120.0</td>\n",
       "      <td>7309.426167</td>\n",
       "      <td>1270.955437</td>\n",
       "      <td>3662.05</td>\n",
       "      <td>6505.7075</td>\n",
       "      <td>7538.735</td>\n",
       "      <td>8074.4500</td>\n",
       "      <td>10142.41</td>\n",
       "    </tr>\n",
       "    <tr>\n",
       "      <th>Value of Exports (ZAR)</th>\n",
       "      <td>120.0</td>\n",
       "      <td>72584.391250</td>\n",
       "      <td>18333.438410</td>\n",
       "      <td>36251.75</td>\n",
       "      <td>59877.9400</td>\n",
       "      <td>71426.100</td>\n",
       "      <td>87488.5325</td>\n",
       "      <td>116185.99</td>\n",
       "    </tr>\n",
       "    <tr>\n",
       "      <th>Value of Imports (USD)</th>\n",
       "      <td>120.0</td>\n",
       "      <td>7847.494083</td>\n",
       "      <td>1261.457881</td>\n",
       "      <td>4725.01</td>\n",
       "      <td>6916.1050</td>\n",
       "      <td>7802.220</td>\n",
       "      <td>8922.6675</td>\n",
       "      <td>10589.92</td>\n",
       "    </tr>\n",
       "    <tr>\n",
       "      <th>Value of Imports (ZAR)</th>\n",
       "      <td>120.0</td>\n",
       "      <td>77969.693000</td>\n",
       "      <td>18870.625678</td>\n",
       "      <td>43062.14</td>\n",
       "      <td>61254.9325</td>\n",
       "      <td>80262.360</td>\n",
       "      <td>95364.1950</td>\n",
       "      <td>115210.99</td>\n",
       "    </tr>\n",
       "    <tr>\n",
       "      <th>IMF Reserve Position (USD)</th>\n",
       "      <td>120.0</td>\n",
       "      <td>180.203667</td>\n",
       "      <td>241.856486</td>\n",
       "      <td>1.92</td>\n",
       "      <td>2.3275</td>\n",
       "      <td>65.170</td>\n",
       "      <td>193.7075</td>\n",
       "      <td>669.17</td>\n",
       "    </tr>\n",
       "    <tr>\n",
       "      <th>Foreign Exchange (USD)</th>\n",
       "      <td>120.0</td>\n",
       "      <td>37743.736167</td>\n",
       "      <td>4044.555006</td>\n",
       "      <td>29526.78</td>\n",
       "      <td>35048.8725</td>\n",
       "      <td>39067.490</td>\n",
       "      <td>41035.3875</td>\n",
       "      <td>42735.00</td>\n",
       "    </tr>\n",
       "    <tr>\n",
       "      <th>Claims on Non-residents (USD)</th>\n",
       "      <td>120.0</td>\n",
       "      <td>50059.190750</td>\n",
       "      <td>4597.734275</td>\n",
       "      <td>40520.11</td>\n",
       "      <td>47196.5150</td>\n",
       "      <td>50127.570</td>\n",
       "      <td>53244.9300</td>\n",
       "      <td>59702.31</td>\n",
       "    </tr>\n",
       "    <tr>\n",
       "      <th>Liabilities to Non-residents (USD)</th>\n",
       "      <td>120.0</td>\n",
       "      <td>39189.093917</td>\n",
       "      <td>4051.000202</td>\n",
       "      <td>31683.49</td>\n",
       "      <td>36310.9750</td>\n",
       "      <td>38698.145</td>\n",
       "      <td>41990.3775</td>\n",
       "      <td>48338.35</td>\n",
       "    </tr>\n",
       "    <tr>\n",
       "      <th>Savings Rate</th>\n",
       "      <td>120.0</td>\n",
       "      <td>3.637250</td>\n",
       "      <td>1.295459</td>\n",
       "      <td>2.40</td>\n",
       "      <td>2.7000</td>\n",
       "      <td>3.080</td>\n",
       "      <td>4.2450</td>\n",
       "      <td>7.31</td>\n",
       "    </tr>\n",
       "    <tr>\n",
       "      <th>Lending Rate</th>\n",
       "      <td>120.0</td>\n",
       "      <td>10.229167</td>\n",
       "      <td>1.953392</td>\n",
       "      <td>8.50</td>\n",
       "      <td>9.0000</td>\n",
       "      <td>9.500</td>\n",
       "      <td>10.5000</td>\n",
       "      <td>15.50</td>\n",
       "    </tr>\n",
       "    <tr>\n",
       "      <th>Government Bonds</th>\n",
       "      <td>120.0</td>\n",
       "      <td>8.506417</td>\n",
       "      <td>0.626485</td>\n",
       "      <td>6.96</td>\n",
       "      <td>8.1600</td>\n",
       "      <td>8.495</td>\n",
       "      <td>8.9750</td>\n",
       "      <td>10.35</td>\n",
       "    </tr>\n",
       "    <tr>\n",
       "      <th>Financial Market Prices, Equities Index</th>\n",
       "      <td>120.0</td>\n",
       "      <td>151.833333</td>\n",
       "      <td>61.639237</td>\n",
       "      <td>71.86</td>\n",
       "      <td>110.2150</td>\n",
       "      <td>152.460</td>\n",
       "      <td>165.7075</td>\n",
       "      <td>371.98</td>\n",
       "    </tr>\n",
       "    <tr>\n",
       "      <th>Consumer Price Index</th>\n",
       "      <td>120.0</td>\n",
       "      <td>115.899750</td>\n",
       "      <td>18.064692</td>\n",
       "      <td>85.48</td>\n",
       "      <td>100.2475</td>\n",
       "      <td>113.880</td>\n",
       "      <td>130.7750</td>\n",
       "      <td>148.38</td>\n",
       "    </tr>\n",
       "  </tbody>\n",
       "</table>\n",
       "</div>"
      ],
      "text/plain": [
       "                                         count          mean           std  \\\n",
       "ZAR/USD                                  120.0     10.083667      2.651753   \n",
       "Value of Exports (USD)                   120.0   7309.426167   1270.955437   \n",
       "Value of Exports (ZAR)                   120.0  72584.391250  18333.438410   \n",
       "Value of Imports (USD)                   120.0   7847.494083   1261.457881   \n",
       "Value of Imports (ZAR)                   120.0  77969.693000  18870.625678   \n",
       "IMF Reserve Position (USD)               120.0    180.203667    241.856486   \n",
       "Foreign Exchange (USD)                   120.0  37743.736167   4044.555006   \n",
       "Claims on Non-residents (USD)            120.0  50059.190750   4597.734275   \n",
       "Liabilities to Non-residents (USD)       120.0  39189.093917   4051.000202   \n",
       "Savings Rate                             120.0      3.637250      1.295459   \n",
       "Lending Rate                             120.0     10.229167      1.953392   \n",
       "Government Bonds                         120.0      8.506417      0.626485   \n",
       "Financial Market Prices, Equities Index  120.0    151.833333     61.639237   \n",
       "Consumer Price Index                     120.0    115.899750     18.064692   \n",
       "\n",
       "                                              min         25%        50%  \\\n",
       "ZAR/USD                                      6.74      7.6600      9.820   \n",
       "Value of Exports (USD)                    3662.05   6505.7075   7538.735   \n",
       "Value of Exports (ZAR)                   36251.75  59877.9400  71426.100   \n",
       "Value of Imports (USD)                    4725.01   6916.1050   7802.220   \n",
       "Value of Imports (ZAR)                   43062.14  61254.9325  80262.360   \n",
       "IMF Reserve Position (USD)                   1.92      2.3275     65.170   \n",
       "Foreign Exchange (USD)                   29526.78  35048.8725  39067.490   \n",
       "Claims on Non-residents (USD)            40520.11  47196.5150  50127.570   \n",
       "Liabilities to Non-residents (USD)       31683.49  36310.9750  38698.145   \n",
       "Savings Rate                                 2.40      2.7000      3.080   \n",
       "Lending Rate                                 8.50      9.0000      9.500   \n",
       "Government Bonds                             6.96      8.1600      8.495   \n",
       "Financial Market Prices, Equities Index     71.86    110.2150    152.460   \n",
       "Consumer Price Index                        85.48    100.2475    113.880   \n",
       "\n",
       "                                                75%        max  \n",
       "ZAR/USD                                     12.3400      16.37  \n",
       "Value of Exports (USD)                    8074.4500   10142.41  \n",
       "Value of Exports (ZAR)                   87488.5325  116185.99  \n",
       "Value of Imports (USD)                    8922.6675   10589.92  \n",
       "Value of Imports (ZAR)                   95364.1950  115210.99  \n",
       "IMF Reserve Position (USD)                 193.7075     669.17  \n",
       "Foreign Exchange (USD)                   41035.3875   42735.00  \n",
       "Claims on Non-residents (USD)            53244.9300   59702.31  \n",
       "Liabilities to Non-residents (USD)       41990.3775   48338.35  \n",
       "Savings Rate                                 4.2450       7.31  \n",
       "Lending Rate                                10.5000      15.50  \n",
       "Government Bonds                             8.9750      10.35  \n",
       "Financial Market Prices, Equities Index    165.7075     371.98  \n",
       "Consumer Price Index                       130.7750     148.38  "
      ]
     },
     "execution_count": 2,
     "metadata": {},
     "output_type": "execute_result"
    }
   ],
   "source": [
    "df = pd.read_csv(r'C:\\Users\\USER\\OneDrive\\CB\\ALX\\Data Science\\Integrated Exams\\Part 2\\data_exam_part_II\\rand-dollar.csv', index_col= 0)\n",
    "df.head()\n",
    "\n",
    "df.info()\n",
    "df.describe().T\n",
    "\n",
    "#Checking for null values\n",
    "#df.isna().sum()"
   ]
  },
  {
   "cell_type": "code",
   "execution_count": 3,
   "metadata": {},
   "outputs": [
    {
     "data": {
      "image/png": "[encoded data removed]",
      "text/plain": [
       "<Figure size 1500x600 with 1 Axes>"
      ]
     },
     "metadata": {},
     "output_type": "display_data"
    }
   ],
   "source": [
    "# Boxplots\n",
    "plt.figure(figsize=(15, 6))\n",
    "sns.boxplot(data=df)\n",
    "plt.title('Box Plot of Numerical Features')\n",
    "plt.xticks(rotation=90)\n",
    "plt.show()"
   ]
  },
  {
   "cell_type": "markdown",
   "metadata": {},
   "source": [
    "#### Splitting"
   ]
  },
  {
   "cell_type": "code",
   "execution_count": 4,
   "metadata": {},
   "outputs": [],
   "source": [
    "target = 'ZAR/USD'\n",
    "y = df[target]\n",
    "X = df.drop(columns=target)"
   ]
  },
  {
   "cell_type": "code",
   "execution_count": 5,
   "metadata": {},
   "outputs": [],
   "source": [
    "X_train, X_test, y_train, y_test = train_test_split(X,y, test_size= 0.2, shuffle= False)"
   ]
  },
  {
   "cell_type": "code",
   "execution_count": 28,
   "metadata": {},
   "outputs": [
    {
     "data": {
      "text/html": [
       "<div>\n",
       "<style scoped>\n",
       "    .dataframe tbody tr th:only-of-type {\n",
       "        vertical-align: middle;\n",
       "    }\n",
       "\n",
       "    .dataframe tbody tr th {\n",
       "        vertical-align: top;\n",
       "    }\n",
       "\n",
       "    .dataframe thead th {\n",
       "        text-align: right;\n",
       "    }\n",
       "</style>\n",
       "<table border=\"1\" class=\"dataframe\">\n",
       "  <thead>\n",
       "    <tr style=\"text-align: right;\">\n",
       "      <th></th>\n",
       "      <th>Value of Exports (USD)</th>\n",
       "      <th>Value of Exports (ZAR)</th>\n",
       "      <th>Value of Imports (USD)</th>\n",
       "      <th>Value of Imports (ZAR)</th>\n",
       "      <th>IMF Reserve Position (USD)</th>\n",
       "      <th>Foreign Exchange (USD)</th>\n",
       "      <th>Claims on Non-residents (USD)</th>\n",
       "      <th>Liabilities to Non-residents (USD)</th>\n",
       "      <th>Savings Rate</th>\n",
       "      <th>Lending Rate</th>\n",
       "      <th>Government Bonds</th>\n",
       "      <th>Financial Market Prices, Equities Index</th>\n",
       "      <th>Consumer Price Index</th>\n",
       "    </tr>\n",
       "  </thead>\n",
       "  <tbody>\n",
       "    <tr>\n",
       "      <th>2008M01</th>\n",
       "      <td>5611.90</td>\n",
       "      <td>39356.82</td>\n",
       "      <td>8105.11</td>\n",
       "      <td>56841.94</td>\n",
       "      <td>1.92</td>\n",
       "      <td>29526.78</td>\n",
       "      <td>51547.61</td>\n",
       "      <td>37752.29</td>\n",
       "      <td>4.53</td>\n",
       "      <td>14.50</td>\n",
       "      <td>8.36</td>\n",
       "      <td>312.97</td>\n",
       "      <td>85.48</td>\n",
       "    </tr>\n",
       "    <tr>\n",
       "      <th>2008M02</th>\n",
       "      <td>6126.16</td>\n",
       "      <td>46946.33</td>\n",
       "      <td>8159.43</td>\n",
       "      <td>62527.78</td>\n",
       "      <td>2.01</td>\n",
       "      <td>29943.04</td>\n",
       "      <td>59702.31</td>\n",
       "      <td>45927.67</td>\n",
       "      <td>5.61</td>\n",
       "      <td>14.50</td>\n",
       "      <td>8.69</td>\n",
       "      <td>335.09</td>\n",
       "      <td>85.91</td>\n",
       "    </tr>\n",
       "    <tr>\n",
       "      <th>2008M03</th>\n",
       "      <td>6417.48</td>\n",
       "      <td>51150.89</td>\n",
       "      <td>8010.87</td>\n",
       "      <td>63851.12</td>\n",
       "      <td>2.05</td>\n",
       "      <td>30246.54</td>\n",
       "      <td>56448.18</td>\n",
       "      <td>42565.17</td>\n",
       "      <td>5.62</td>\n",
       "      <td>14.50</td>\n",
       "      <td>9.16</td>\n",
       "      <td>348.84</td>\n",
       "      <td>87.04</td>\n",
       "    </tr>\n",
       "    <tr>\n",
       "      <th>2008M04</th>\n",
       "      <td>7215.71</td>\n",
       "      <td>56174.34</td>\n",
       "      <td>9112.97</td>\n",
       "      <td>70944.49</td>\n",
       "      <td>2.03</td>\n",
       "      <td>30399.21</td>\n",
       "      <td>55534.75</td>\n",
       "      <td>43342.70</td>\n",
       "      <td>5.80</td>\n",
       "      <td>15.00</td>\n",
       "      <td>9.15</td>\n",
       "      <td>358.47</td>\n",
       "      <td>87.61</td>\n",
       "    </tr>\n",
       "    <tr>\n",
       "      <th>2008M05</th>\n",
       "      <td>7379.67</td>\n",
       "      <td>56240.45</td>\n",
       "      <td>9090.14</td>\n",
       "      <td>69275.97</td>\n",
       "      <td>2.10</td>\n",
       "      <td>30467.81</td>\n",
       "      <td>57682.89</td>\n",
       "      <td>46533.13</td>\n",
       "      <td>6.50</td>\n",
       "      <td>15.00</td>\n",
       "      <td>9.51</td>\n",
       "      <td>371.98</td>\n",
       "      <td>88.32</td>\n",
       "    </tr>\n",
       "    <tr>\n",
       "      <th>...</th>\n",
       "      <td>...</td>\n",
       "      <td>...</td>\n",
       "      <td>...</td>\n",
       "      <td>...</td>\n",
       "      <td>...</td>\n",
       "      <td>...</td>\n",
       "      <td>...</td>\n",
       "      <td>...</td>\n",
       "      <td>...</td>\n",
       "      <td>...</td>\n",
       "      <td>...</td>\n",
       "      <td>...</td>\n",
       "      <td>...</td>\n",
       "    </tr>\n",
       "    <tr>\n",
       "      <th>2015M08</th>\n",
       "      <td>6743.95</td>\n",
       "      <td>87132.35</td>\n",
       "      <td>7952.46</td>\n",
       "      <td>102746.45</td>\n",
       "      <td>200.33</td>\n",
       "      <td>38814.96</td>\n",
       "      <td>47123.54</td>\n",
       "      <td>36880.63</td>\n",
       "      <td>2.94</td>\n",
       "      <td>9.50</td>\n",
       "      <td>8.28</td>\n",
       "      <td>162.70</td>\n",
       "      <td>131.77</td>\n",
       "    </tr>\n",
       "    <tr>\n",
       "      <th>2015M09</th>\n",
       "      <td>6680.86</td>\n",
       "      <td>90946.99</td>\n",
       "      <td>7230.09</td>\n",
       "      <td>98423.73</td>\n",
       "      <td>201.03</td>\n",
       "      <td>38899.56</td>\n",
       "      <td>48222.98</td>\n",
       "      <td>37716.63</td>\n",
       "      <td>2.89</td>\n",
       "      <td>9.50</td>\n",
       "      <td>8.47</td>\n",
       "      <td>160.51</td>\n",
       "      <td>131.77</td>\n",
       "    </tr>\n",
       "    <tr>\n",
       "      <th>2015M10</th>\n",
       "      <td>6292.78</td>\n",
       "      <td>85012.51</td>\n",
       "      <td>8361.15</td>\n",
       "      <td>112955.23</td>\n",
       "      <td>221.00</td>\n",
       "      <td>38711.99</td>\n",
       "      <td>45184.80</td>\n",
       "      <td>36518.11</td>\n",
       "      <td>2.97</td>\n",
       "      <td>9.50</td>\n",
       "      <td>8.28</td>\n",
       "      <td>167.88</td>\n",
       "      <td>132.06</td>\n",
       "    </tr>\n",
       "    <tr>\n",
       "      <th>2015M11</th>\n",
       "      <td>6605.46</td>\n",
       "      <td>93237.28</td>\n",
       "      <td>7134.42</td>\n",
       "      <td>100703.58</td>\n",
       "      <td>217.09</td>\n",
       "      <td>38213.30</td>\n",
       "      <td>44665.59</td>\n",
       "      <td>39004.70</td>\n",
       "      <td>3.09</td>\n",
       "      <td>9.75</td>\n",
       "      <td>8.49</td>\n",
       "      <td>166.36</td>\n",
       "      <td>132.34</td>\n",
       "    </tr>\n",
       "    <tr>\n",
       "      <th>2015M12</th>\n",
       "      <td>5838.05</td>\n",
       "      <td>87514.73</td>\n",
       "      <td>5649.06</td>\n",
       "      <td>84681.67</td>\n",
       "      <td>218.68</td>\n",
       "      <td>38922.87</td>\n",
       "      <td>48052.53</td>\n",
       "      <td>40522.44</td>\n",
       "      <td>3.18</td>\n",
       "      <td>9.75</td>\n",
       "      <td>9.34</td>\n",
       "      <td>156.98</td>\n",
       "      <td>132.62</td>\n",
       "    </tr>\n",
       "  </tbody>\n",
       "</table>\n",
       "<p>96 rows × 13 columns</p>\n",
       "</div>"
      ],
      "text/plain": [
       "         Value of Exports (USD)  Value of Exports (ZAR)  \\\n",
       "2008M01                 5611.90                39356.82   \n",
       "2008M02                 6126.16                46946.33   \n",
       "2008M03                 6417.48                51150.89   \n",
       "2008M04                 7215.71                56174.34   \n",
       "2008M05                 7379.67                56240.45   \n",
       "...                         ...                     ...   \n",
       "2015M08                 6743.95                87132.35   \n",
       "2015M09                 6680.86                90946.99   \n",
       "2015M10                 6292.78                85012.51   \n",
       "2015M11                 6605.46                93237.28   \n",
       "2015M12                 5838.05                87514.73   \n",
       "\n",
       "         Value of Imports (USD)  Value of Imports (ZAR)  \\\n",
       "2008M01                 8105.11                56841.94   \n",
       "2008M02                 8159.43                62527.78   \n",
       "2008M03                 8010.87                63851.12   \n",
       "2008M04                 9112.97                70944.49   \n",
       "2008M05                 9090.14                69275.97   \n",
       "...                         ...                     ...   \n",
       "2015M08                 7952.46               102746.45   \n",
       "2015M09                 7230.09                98423.73   \n",
       "2015M10                 8361.15               112955.23   \n",
       "2015M11                 7134.42               100703.58   \n",
       "2015M12                 5649.06                84681.67   \n",
       "\n",
       "         IMF Reserve Position (USD)  Foreign Exchange (USD)  \\\n",
       "2008M01                        1.92                29526.78   \n",
       "2008M02                        2.01                29943.04   \n",
       "2008M03                        2.05                30246.54   \n",
       "2008M04                        2.03                30399.21   \n",
       "2008M05                        2.10                30467.81   \n",
       "...                             ...                     ...   \n",
       "2015M08                      200.33                38814.96   \n",
       "2015M09                      201.03                38899.56   \n",
       "2015M10                      221.00                38711.99   \n",
       "2015M11                      217.09                38213.30   \n",
       "2015M12                      218.68                38922.87   \n",
       "\n",
       "         Claims on Non-residents (USD)  Liabilities to Non-residents (USD)  \\\n",
       "2008M01                       51547.61                            37752.29   \n",
       "2008M02                       59702.31                            45927.67   \n",
       "2008M03                       56448.18                            42565.17   \n",
       "2008M04                       55534.75                            43342.70   \n",
       "2008M05                       57682.89                            46533.13   \n",
       "...                                ...                                 ...   \n",
       "2015M08                       47123.54                            36880.63   \n",
       "2015M09                       48222.98                            37716.63   \n",
       "2015M10                       45184.80                            36518.11   \n",
       "2015M11                       44665.59                            39004.70   \n",
       "2015M12                       48052.53                            40522.44   \n",
       "\n",
       "         Savings Rate  Lending Rate  Government Bonds  \\\n",
       "2008M01          4.53         14.50              8.36   \n",
       "2008M02          5.61         14.50              8.69   \n",
       "2008M03          5.62         14.50              9.16   \n",
       "2008M04          5.80         15.00              9.15   \n",
       "2008M05          6.50         15.00              9.51   \n",
       "...               ...           ...               ...   \n",
       "2015M08          2.94          9.50              8.28   \n",
       "2015M09          2.89          9.50              8.47   \n",
       "2015M10          2.97          9.50              8.28   \n",
       "2015M11          3.09          9.75              8.49   \n",
       "2015M12          3.18          9.75              9.34   \n",
       "\n",
       "         Financial Market Prices, Equities Index  Consumer Price Index  \n",
       "2008M01                                   312.97                 85.48  \n",
       "2008M02                                   335.09                 85.91  \n",
       "2008M03                                   348.84                 87.04  \n",
       "2008M04                                   358.47                 87.61  \n",
       "2008M05                                   371.98                 88.32  \n",
       "...                                          ...                   ...  \n",
       "2015M08                                   162.70                131.77  \n",
       "2015M09                                   160.51                131.77  \n",
       "2015M10                                   167.88                132.06  \n",
       "2015M11                                   166.36                132.34  \n",
       "2015M12                                   156.98                132.62  \n",
       "\n",
       "[96 rows x 13 columns]"
      ]
     },
     "execution_count": 28,
     "metadata": {},
     "output_type": "execute_result"
    }
   ],
   "source": [
    "X_train"
   ]
  },
  {
   "cell_type": "markdown",
   "metadata": {},
   "source": [
    "#### Training the Model"
   ]
  },
  {
   "cell_type": "code",
   "execution_count": 6,
   "metadata": {},
   "outputs": [
    {
     "data": {
      "text/html": [
       "<style>#sk-container-id-1 {\n",
       "  /* Definition of color scheme common for light and dark mode */\n",
       "  --sklearn-color-text: black;\n",
       "  --sklearn-color-line: gray;\n",
       "  /* Definition of color scheme for unfitted estimators */\n",
       "  --sklearn-color-unfitted-level-0: #fff5e6;\n",
       "  --sklearn-color-unfitted-level-1: #f6e4d2;\n",
       "  --sklearn-color-unfitted-level-2: #ffe0b3;\n",
       "  --sklearn-color-unfitted-level-3: chocolate;\n",
       "  /* Definition of color scheme for fitted estimators */\n",
       "  --sklearn-color-fitted-level-0: #f0f8ff;\n",
       "  --sklearn-color-fitted-level-1: #d4ebff;\n",
       "  --sklearn-color-fitted-level-2: #b3dbfd;\n",
       "  --sklearn-color-fitted-level-3: cornflowerblue;\n",
       "\n",
       "  /* Specific color for light theme */\n",
       "  --sklearn-color-text-on-default-background: var(--sg-text-color, var(--theme-code-foreground, var(--jp-content-font-color1, black)));\n",
       "  --sklearn-color-background: var(--sg-background-color, var(--theme-background, var(--jp-layout-color0, white)));\n",
       "  --sklearn-color-border-box: var(--sg-text-color, var(--theme-code-foreground, var(--jp-content-font-color1, black)));\n",
       "  --sklearn-color-icon: #696969;\n",
       "\n",
       "  @media (prefers-color-scheme: dark) {\n",
       "    /* Redefinition of color scheme for dark theme */\n",
       "    --sklearn-color-text-on-default-background: var(--sg-text-color, var(--theme-code-foreground, var(--jp-content-font-color1, white)));\n",
       "    --sklearn-color-background: var(--sg-background-color, var(--theme-background, var(--jp-layout-color0, #111)));\n",
       "    --sklearn-color-border-box: var(--sg-text-color, var(--theme-code-foreground, var(--jp-content-font-color1, white)));\n",
       "    --sklearn-color-icon: #878787;\n",
       "  }\n",
       "}\n",
       "\n",
       "#sk-container-id-1 {\n",
       "  color: var(--sklearn-color-text);\n",
       "}\n",
       "\n",
       "#sk-container-id-1 pre {\n",
       "  padding: 0;\n",
       "}\n",
       "\n",
       "#sk-container-id-1 input.sk-hidden--visually {\n",
       "  border: 0;\n",
       "  clip: rect(1px 1px 1px 1px);\n",
       "  clip: rect(1px, 1px, 1px, 1px);\n",
       "  height: 1px;\n",
       "  margin: -1px;\n",
       "  overflow: hidden;\n",
       "  padding: 0;\n",
       "  position: absolute;\n",
       "  width: 1px;\n",
       "}\n",
       "\n",
       "#sk-container-id-1 div.sk-dashed-wrapped {\n",
       "  border: 1px dashed var(--sklearn-color-line);\n",
       "  margin: 0 0.4em 0.5em 0.4em;\n",
       "  box-sizing: border-box;\n",
       "  padding-bottom: 0.4em;\n",
       "  background-color: var(--sklearn-color-background);\n",
       "}\n",
       "\n",
       "#sk-container-id-1 div.sk-container {\n",
       "  /* jupyter's `normalize.less` sets `[hidden] { display: none; }`\n",
       "     but bootstrap.min.css set `[hidden] { display: none !important; }`\n",
       "     so we also need the `!important` here to be able to override the\n",
       "     default hidden behavior on the sphinx rendered scikit-learn.org.\n",
       "     See: https://github.com/scikit-learn/scikit-learn/issues/21755 */\n",
       "  display: inline-block !important;\n",
       "  position: relative;\n",
       "}\n",
       "\n",
       "#sk-container-id-1 div.sk-text-repr-fallback {\n",
       "  display: none;\n",
       "}\n",
       "\n",
       "div.sk-parallel-item,\n",
       "div.sk-serial,\n",
       "div.sk-item {\n",
       "  /* draw centered vertical line to link estimators */\n",
       "  background-image: linear-gradient(var(--sklearn-color-text-on-default-background), var(--sklearn-color-text-on-default-background));\n",
       "  background-size: 2px 100%;\n",
       "  background-repeat: no-repeat;\n",
       "  background-position: center center;\n",
       "}\n",
       "\n",
       "/* Parallel-specific style estimator block */\n",
       "\n",
       "#sk-container-id-1 div.sk-parallel-item::after {\n",
       "  content: \"\";\n",
       "  width: 100%;\n",
       "  border-bottom: 2px solid var(--sklearn-color-text-on-default-background);\n",
       "  flex-grow: 1;\n",
       "}\n",
       "\n",
       "#sk-container-id-1 div.sk-parallel {\n",
       "  display: flex;\n",
       "  align-items: stretch;\n",
       "  justify-content: center;\n",
       "  background-color: var(--sklearn-color-background);\n",
       "  position: relative;\n",
       "}\n",
       "\n",
       "#sk-container-id-1 div.sk-parallel-item {\n",
       "  display: flex;\n",
       "  flex-direction: column;\n",
       "}\n",
       "\n",
       "#sk-container-id-1 div.sk-parallel-item:first-child::after {\n",
       "  align-self: flex-end;\n",
       "  width: 50%;\n",
       "}\n",
       "\n",
       "#sk-container-id-1 div.sk-parallel-item:last-child::after {\n",
       "  align-self: flex-start;\n",
       "  width: 50%;\n",
       "}\n",
       "\n",
       "#sk-container-id-1 div.sk-parallel-item:only-child::after {\n",
       "  width: 0;\n",
       "}\n",
       "\n",
       "/* Serial-specific style estimator block */\n",
       "\n",
       "#sk-container-id-1 div.sk-serial {\n",
       "  display: flex;\n",
       "  flex-direction: column;\n",
       "  align-items: center;\n",
       "  background-color: var(--sklearn-color-background);\n",
       "  padding-right: 1em;\n",
       "  padding-left: 1em;\n",
       "}\n",
       "\n",
       "\n",
       "/* Toggleable style: style used for estimator/Pipeline/ColumnTransformer box that is\n",
       "clickable and can be expanded/collapsed.\n",
       "- Pipeline and ColumnTransformer use this feature and define the default style\n",
       "- Estimators will overwrite some part of the style using the `sk-estimator` class\n",
       "*/\n",
       "\n",
       "/* Pipeline and ColumnTransformer style (default) */\n",
       "\n",
       "#sk-container-id-1 div.sk-toggleable {\n",
       "  /* Default theme specific background. It is overwritten whether we have a\n",
       "  specific estimator or a Pipeline/ColumnTransformer */\n",
       "  background-color: var(--sklearn-color-background);\n",
       "}\n",
       "\n",
       "/* Toggleable label */\n",
       "#sk-container-id-1 label.sk-toggleable__label {\n",
       "  cursor: pointer;\n",
       "  display: block;\n",
       "  width: 100%;\n",
       "  margin-bottom: 0;\n",
       "  padding: 0.5em;\n",
       "  box-sizing: border-box;\n",
       "  text-align: center;\n",
       "}\n",
       "\n",
       "#sk-container-id-1 label.sk-toggleable__label-arrow:before {\n",
       "  /* Arrow on the left of the label */\n",
       "  content: \"▸\";\n",
       "  float: left;\n",
       "  margin-right: 0.25em;\n",
       "  color: var(--sklearn-color-icon);\n",
       "}\n",
       "\n",
       "#sk-container-id-1 label.sk-toggleable__label-arrow:hover:before {\n",
       "  color: var(--sklearn-color-text);\n",
       "}\n",
       "\n",
       "/* Toggleable content - dropdown */\n",
       "\n",
       "#sk-container-id-1 div.sk-toggleable__content {\n",
       "  max-height: 0;\n",
       "  max-width: 0;\n",
       "  overflow: hidden;\n",
       "  text-align: left;\n",
       "  /* unfitted */\n",
       "  background-color: var(--sklearn-color-unfitted-level-0);\n",
       "}\n",
       "\n",
       "#sk-container-id-1 div.sk-toggleable__content.fitted {\n",
       "  /* fitted */\n",
       "  background-color: var(--sklearn-color-fitted-level-0);\n",
       "}\n",
       "\n",
       "#sk-container-id-1 div.sk-toggleable__content pre {\n",
       "  margin: 0.2em;\n",
       "  border-radius: 0.25em;\n",
       "  color: var(--sklearn-color-text);\n",
       "  /* unfitted */\n",
       "  background-color: var(--sklearn-color-unfitted-level-0);\n",
       "}\n",
       "\n",
       "#sk-container-id-1 div.sk-toggleable__content.fitted pre {\n",
       "  /* unfitted */\n",
       "  background-color: var(--sklearn-color-fitted-level-0);\n",
       "}\n",
       "\n",
       "#sk-container-id-1 input.sk-toggleable__control:checked~div.sk-toggleable__content {\n",
       "  /* Expand drop-down */\n",
       "  max-height: 200px;\n",
       "  max-width: 100%;\n",
       "  overflow: auto;\n",
       "}\n",
       "\n",
       "#sk-container-id-1 input.sk-toggleable__control:checked~label.sk-toggleable__label-arrow:before {\n",
       "  content: \"▾\";\n",
       "}\n",
       "\n",
       "/* Pipeline/ColumnTransformer-specific style */\n",
       "\n",
       "#sk-container-id-1 div.sk-label input.sk-toggleable__control:checked~label.sk-toggleable__label {\n",
       "  color: var(--sklearn-color-text);\n",
       "  background-color: var(--sklearn-color-unfitted-level-2);\n",
       "}\n",
       "\n",
       "#sk-container-id-1 div.sk-label.fitted input.sk-toggleable__control:checked~label.sk-toggleable__label {\n",
       "  background-color: var(--sklearn-color-fitted-level-2);\n",
       "}\n",
       "\n",
       "/* Estimator-specific style */\n",
       "\n",
       "/* Colorize estimator box */\n",
       "#sk-container-id-1 div.sk-estimator input.sk-toggleable__control:checked~label.sk-toggleable__label {\n",
       "  /* unfitted */\n",
       "  background-color: var(--sklearn-color-unfitted-level-2);\n",
       "}\n",
       "\n",
       "#sk-container-id-1 div.sk-estimator.fitted input.sk-toggleable__control:checked~label.sk-toggleable__label {\n",
       "  /* fitted */\n",
       "  background-color: var(--sklearn-color-fitted-level-2);\n",
       "}\n",
       "\n",
       "#sk-container-id-1 div.sk-label label.sk-toggleable__label,\n",
       "#sk-container-id-1 div.sk-label label {\n",
       "  /* The background is the default theme color */\n",
       "  color: var(--sklearn-color-text-on-default-background);\n",
       "}\n",
       "\n",
       "/* On hover, darken the color of the background */\n",
       "#sk-container-id-1 div.sk-label:hover label.sk-toggleable__label {\n",
       "  color: var(--sklearn-color-text);\n",
       "  background-color: var(--sklearn-color-unfitted-level-2);\n",
       "}\n",
       "\n",
       "/* Label box, darken color on hover, fitted */\n",
       "#sk-container-id-1 div.sk-label.fitted:hover label.sk-toggleable__label.fitted {\n",
       "  color: var(--sklearn-color-text);\n",
       "  background-color: var(--sklearn-color-fitted-level-2);\n",
       "}\n",
       "\n",
       "/* Estimator label */\n",
       "\n",
       "#sk-container-id-1 div.sk-label label {\n",
       "  font-family: monospace;\n",
       "  font-weight: bold;\n",
       "  display: inline-block;\n",
       "  line-height: 1.2em;\n",
       "}\n",
       "\n",
       "#sk-container-id-1 div.sk-label-container {\n",
       "  text-align: center;\n",
       "}\n",
       "\n",
       "/* Estimator-specific */\n",
       "#sk-container-id-1 div.sk-estimator {\n",
       "  font-family: monospace;\n",
       "  border: 1px dotted var(--sklearn-color-border-box);\n",
       "  border-radius: 0.25em;\n",
       "  box-sizing: border-box;\n",
       "  margin-bottom: 0.5em;\n",
       "  /* unfitted */\n",
       "  background-color: var(--sklearn-color-unfitted-level-0);\n",
       "}\n",
       "\n",
       "#sk-container-id-1 div.sk-estimator.fitted {\n",
       "  /* fitted */\n",
       "  background-color: var(--sklearn-color-fitted-level-0);\n",
       "}\n",
       "\n",
       "/* on hover */\n",
       "#sk-container-id-1 div.sk-estimator:hover {\n",
       "  /* unfitted */\n",
       "  background-color: var(--sklearn-color-unfitted-level-2);\n",
       "}\n",
       "\n",
       "#sk-container-id-1 div.sk-estimator.fitted:hover {\n",
       "  /* fitted */\n",
       "  background-color: var(--sklearn-color-fitted-level-2);\n",
       "}\n",
       "\n",
       "/* Specification for estimator info (e.g. \"i\" and \"?\") */\n",
       "\n",
       "/* Common style for \"i\" and \"?\" */\n",
       "\n",
       ".sk-estimator-doc-link,\n",
       "a:link.sk-estimator-doc-link,\n",
       "a:visited.sk-estimator-doc-link {\n",
       "  float: right;\n",
       "  font-size: smaller;\n",
       "  line-height: 1em;\n",
       "  font-family: monospace;\n",
       "  background-color: var(--sklearn-color-background);\n",
       "  border-radius: 1em;\n",
       "  height: 1em;\n",
       "  width: 1em;\n",
       "  text-decoration: none !important;\n",
       "  margin-left: 1ex;\n",
       "  /* unfitted */\n",
       "  border: var(--sklearn-color-unfitted-level-1) 1pt solid;\n",
       "  color: var(--sklearn-color-unfitted-level-1);\n",
       "}\n",
       "\n",
       ".sk-estimator-doc-link.fitted,\n",
       "a:link.sk-estimator-doc-link.fitted,\n",
       "a:visited.sk-estimator-doc-link.fitted {\n",
       "  /* fitted */\n",
       "  border: var(--sklearn-color-fitted-level-1) 1pt solid;\n",
       "  color: var(--sklearn-color-fitted-level-1);\n",
       "}\n",
       "\n",
       "/* On hover */\n",
       "div.sk-estimator:hover .sk-estimator-doc-link:hover,\n",
       ".sk-estimator-doc-link:hover,\n",
       "div.sk-label-container:hover .sk-estimator-doc-link:hover,\n",
       ".sk-estimator-doc-link:hover {\n",
       "  /* unfitted */\n",
       "  background-color: var(--sklearn-color-unfitted-level-3);\n",
       "  color: var(--sklearn-color-background);\n",
       "  text-decoration: none;\n",
       "}\n",
       "\n",
       "div.sk-estimator.fitted:hover .sk-estimator-doc-link.fitted:hover,\n",
       ".sk-estimator-doc-link.fitted:hover,\n",
       "div.sk-label-container:hover .sk-estimator-doc-link.fitted:hover,\n",
       ".sk-estimator-doc-link.fitted:hover {\n",
       "  /* fitted */\n",
       "  background-color: var(--sklearn-color-fitted-level-3);\n",
       "  color: var(--sklearn-color-background);\n",
       "  text-decoration: none;\n",
       "}\n",
       "\n",
       "/* Span, style for the box shown on hovering the info icon */\n",
       ".sk-estimator-doc-link span {\n",
       "  display: none;\n",
       "  z-index: 9999;\n",
       "  position: relative;\n",
       "  font-weight: normal;\n",
       "  right: .2ex;\n",
       "  padding: .5ex;\n",
       "  margin: .5ex;\n",
       "  width: min-content;\n",
       "  min-width: 20ex;\n",
       "  max-width: 50ex;\n",
       "  color: var(--sklearn-color-text);\n",
       "  box-shadow: 2pt 2pt 4pt #999;\n",
       "  /* unfitted */\n",
       "  background: var(--sklearn-color-unfitted-level-0);\n",
       "  border: .5pt solid var(--sklearn-color-unfitted-level-3);\n",
       "}\n",
       "\n",
       ".sk-estimator-doc-link.fitted span {\n",
       "  /* fitted */\n",
       "  background: var(--sklearn-color-fitted-level-0);\n",
       "  border: var(--sklearn-color-fitted-level-3);\n",
       "}\n",
       "\n",
       ".sk-estimator-doc-link:hover span {\n",
       "  display: block;\n",
       "}\n",
       "\n",
       "/* \"?\"-specific style due to the `<a>` HTML tag */\n",
       "\n",
       "#sk-container-id-1 a.estimator_doc_link {\n",
       "  float: right;\n",
       "  font-size: 1rem;\n",
       "  line-height: 1em;\n",
       "  font-family: monospace;\n",
       "  background-color: var(--sklearn-color-background);\n",
       "  border-radius: 1rem;\n",
       "  height: 1rem;\n",
       "  width: 1rem;\n",
       "  text-decoration: none;\n",
       "  /* unfitted */\n",
       "  color: var(--sklearn-color-unfitted-level-1);\n",
       "  border: var(--sklearn-color-unfitted-level-1) 1pt solid;\n",
       "}\n",
       "\n",
       "#sk-container-id-1 a.estimator_doc_link.fitted {\n",
       "  /* fitted */\n",
       "  border: var(--sklearn-color-fitted-level-1) 1pt solid;\n",
       "  color: var(--sklearn-color-fitted-level-1);\n",
       "}\n",
       "\n",
       "/* On hover */\n",
       "#sk-container-id-1 a.estimator_doc_link:hover {\n",
       "  /* unfitted */\n",
       "  background-color: var(--sklearn-color-unfitted-level-3);\n",
       "  color: var(--sklearn-color-background);\n",
       "  text-decoration: none;\n",
       "}\n",
       "\n",
       "#sk-container-id-1 a.estimator_doc_link.fitted:hover {\n",
       "  /* fitted */\n",
       "  background-color: var(--sklearn-color-fitted-level-3);\n",
       "}\n",
       "</style><div id=\"sk-container-id-1\" class=\"sk-top-container\"><div class=\"sk-text-repr-fallback\"><pre>LinearRegression()</pre><b>In a Jupyter environment, please rerun this cell to show the HTML representation or trust the notebook. <br />On GitHub, the HTML representation is unable to render, please try loading this page with nbviewer.org.</b></div><div class=\"sk-container\" hidden><div class=\"sk-item\"><div class=\"sk-estimator fitted sk-toggleable\"><input class=\"sk-toggleable__control sk-hidden--visually\" id=\"sk-estimator-id-1\" type=\"checkbox\" checked><label for=\"sk-estimator-id-1\" class=\"sk-toggleable__label fitted sk-toggleable__label-arrow fitted\">&nbsp;&nbsp;LinearRegression<a class=\"sk-estimator-doc-link fitted\" rel=\"noreferrer\" target=\"_blank\" href=\"https://scikit-learn.org/1.5/modules/generated/sklearn.linear_model.LinearRegression.html\">?<span>Documentation for LinearRegression</span></a><span class=\"sk-estimator-doc-link fitted\">i<span>Fitted</span></span></label><div class=\"sk-toggleable__content fitted\"><pre>LinearRegression()</pre></div> </div></div></div></div>"
      ],
      "text/plain": [
       "LinearRegression()"
      ]
     },
     "execution_count": 6,
     "metadata": {},
     "output_type": "execute_result"
    }
   ],
   "source": [
    "# Select the predictor variable\n",
    "X_train_exports = X_train[['Value of Exports (ZAR)']]\n",
    "X_test_exports = X_test[['Value of Exports (ZAR)']]\n",
    "lm = LinearRegression()\n",
    "lm.fit(X_train_exports, y_train)"
   ]
  },
  {
   "cell_type": "markdown",
   "metadata": {},
   "source": [
    "##### Question 1 \n",
    "What is the value of the intercept of the model?"
   ]
  },
  {
   "cell_type": "code",
   "execution_count": 7,
   "metadata": {},
   "outputs": [
    {
     "data": {
      "text/plain": [
       "3.2941036551619103"
      ]
     },
     "execution_count": 7,
     "metadata": {},
     "output_type": "execute_result"
    }
   ],
   "source": [
    "lm.intercept_"
   ]
  },
  {
   "cell_type": "markdown",
   "metadata": {},
   "source": [
    "##### Question 2\n",
    "How do we interpret the intercept?"
   ]
  },
  {
   "cell_type": "markdown",
   "metadata": {},
   "source": [
    "**The value of ZAR/USD will be equal to this value when exports are zero**"
   ]
  },
  {
   "cell_type": "markdown",
   "metadata": {},
   "source": [
    "##### Question 3\n",
    "What is the value of the slope of this model?"
   ]
  },
  {
   "cell_type": "code",
   "execution_count": 8,
   "metadata": {},
   "outputs": [
    {
     "name": "stdout",
     "output_type": "stream",
     "text": [
      "Slope : 8.677126339792249e-05 =  0.00008677\n"
     ]
    }
   ],
   "source": [
    "slope = lm.coef_[0]\n",
    "print(f'Slope : {slope} = {slope : .8f}')"
   ]
  },
  {
   "cell_type": "markdown",
   "metadata": {},
   "source": [
    "##### Question 4\n",
    "How do we interpret the slope of the model?"
   ]
  },
  {
   "cell_type": "markdown",
   "metadata": {},
   "source": [
    "***An increase of 1 unit in exports results in an increase of this many units in ZAR/USD**"
   ]
  },
  {
   "cell_type": "code",
   "execution_count": 9,
   "metadata": {},
   "outputs": [
    {
     "name": "stdout",
     "output_type": "stream",
     "text": [
      "Predicted Value : 11.97122999495416\n"
     ]
    }
   ],
   "source": [
    "R = pd.DataFrame({'Value of Exports (ZAR)':[100000]})\n",
    "R_pred = lm.predict(R)\n",
    "\n",
    "print(f'Predicted Value : {R_pred[0]}')"
   ]
  },
  {
   "cell_type": "markdown",
   "metadata": {},
   "source": [
    "##### Question 6\n",
    "*What is the MSE of the model on the test set?*"
   ]
  },
  {
   "cell_type": "code",
   "execution_count": 10,
   "metadata": {},
   "outputs": [
    {
     "name": "stdout",
     "output_type": "stream",
     "text": [
      "MSE: 8.22\n"
     ]
    }
   ],
   "source": [
    "y_pred = lm.predict(X_test_exports)\n",
    "\n",
    "mse = mean_squared_error(y_test, y_pred)\n",
    "\n",
    "print(f'MSE: {mse:.2f}')"
   ]
  },
  {
   "cell_type": "markdown",
   "metadata": {},
   "source": [
    "##### Question 7\n",
    "What is the R-squared value of the model on the test set?"
   ]
  },
  {
   "cell_type": "code",
   "execution_count": 11,
   "metadata": {},
   "outputs": [
    {
     "name": "stdout",
     "output_type": "stream",
     "text": [
      "R-Squared : -8.45\n"
     ]
    }
   ],
   "source": [
    "r2= r2_score(y_test, y_pred)\n",
    "print(f'R-Squared : {r2:.2f}')"
   ]
  },
  {
   "cell_type": "markdown",
   "metadata": {},
   "source": [
    "##### Question 8\n",
    "What would a negative R-squared test value imply?\n",
    "\n",
    "Ans: **The model is worse at predicting the target variable than if a constant line y = intercept was used**"
   ]
  },
  {
   "cell_type": "markdown",
   "metadata": {},
   "source": [
    "##### Question 9 \n",
    "What is the predicted value for August 2017?"
   ]
  },
  {
   "cell_type": "code",
   "execution_count": 13,
   "metadata": {},
   "outputs": [
    {
     "name": "stdout",
     "output_type": "stream",
     "text": [
      "Predicted value on Aug 2017 : R 12.25/ 1$\n"
     ]
    }
   ],
   "source": [
    "Aug_17 = df[['Value of Exports (ZAR)']].loc['2017M08'].to_frame().T\n",
    "Aug_17_pred = lm.predict(Aug_17)\n",
    "\n",
    "print(f'Predicted value on Aug 2017 : R{Aug_17_pred[0]: .2f}/ 1$')\n",
    "\n"
   ]
  },
  {
   "cell_type": "markdown",
   "metadata": {},
   "source": [
    "##### Question 10\n",
    "What is the absolute error for this prediction?"
   ]
  },
  {
   "cell_type": "code",
   "execution_count": 14,
   "metadata": {},
   "outputs": [
    {
     "name": "stdout",
     "output_type": "stream",
     "text": [
      "Absolute Error: R 0.98\n"
     ]
    }
   ],
   "source": [
    "y_test = df['ZAR/USD'].loc['2017M08']\n",
    "\n",
    "AE = np.absolute(y_test - Aug_17_pred[0])\n",
    "\n",
    "print(f'Absolute Error: R{AE: .2f}')"
   ]
  },
  {
   "cell_type": "markdown",
   "metadata": {},
   "source": [
    "#### Original Data"
   ]
  },
  {
   "cell_type": "code",
   "execution_count": 15,
   "metadata": {},
   "outputs": [],
   "source": [
    "X_train, X_test, y_train, y_test = train_test_split(X,y, test_size= 0.2, shuffle= False)\n",
    "X_train, X_test, y_train, y_test = train_test_split(X,y, test_size= 0.2, shuffle= False)"
   ]
  },
  {
   "cell_type": "markdown",
   "metadata": {},
   "source": [
    "#### Question 11\n",
    "Use the df.corr() function to find the correlations between the predictors and the target variable.\n",
    "\n",
    "Which variable has the weakest linear relationship with the ZAR/USD exchange rate?"
   ]
  },
  {
   "cell_type": "code",
   "execution_count": 17,
   "metadata": {},
   "outputs": [
    {
     "data": {
      "text/plain": [
       "Savings Rate                               0.041555\n",
       "Lending Rate                               0.056806\n",
       "Financial Market Prices, Equities Index    0.139858\n",
       "Government Bonds                           0.191455\n",
       "Foreign Exchange (USD)                     0.317203\n",
       "Value of Exports (USD)                     0.335780\n",
       "Value of Imports (USD)                     0.350606\n",
       "Liabilities to Non-residents (USD)         0.472230\n",
       "Claims on Non-residents (USD)              0.727278\n",
       "Value of Exports (ZAR)                     0.784756\n",
       "Value of Imports (ZAR)                     0.791994\n",
       "IMF Reserve Position (USD)                 0.855311\n",
       "Consumer Price Index                       0.872660\n",
       "ZAR/USD                                    1.000000\n",
       "Name: ZAR/USD, dtype: float64"
      ]
     },
     "execution_count": 17,
     "metadata": {},
     "output_type": "execute_result"
    },
    {
     "data": {
      "image/png": "[encoded data removed]",
      "text/plain": [
       "<Figure size 640x480 with 2 Axes>"
      ]
     },
     "metadata": {},
     "output_type": "display_data"
    }
   ],
   "source": [
    "corr = df.corr()\n",
    "\n",
    "sns.heatmap(corr)\n",
    "\n",
    "corr['ZAR/USD'].abs().sort_values(ascending= True)"
   ]
  },
  {
   "cell_type": "markdown",
   "metadata": {},
   "source": [
    "##### Question 12\n",
    "Which variable has the strongest linear relationship with the ZAR/USD exchange rate?"
   ]
  },
  {
   "cell_type": "code",
   "execution_count": 18,
   "metadata": {},
   "outputs": [
    {
     "data": {
      "text/plain": [
       "ZAR/USD                                    1.000000\n",
       "Consumer Price Index                       0.872660\n",
       "IMF Reserve Position (USD)                 0.855311\n",
       "Value of Imports (ZAR)                     0.791994\n",
       "Value of Exports (ZAR)                     0.784756\n",
       "Claims on Non-residents (USD)              0.727278\n",
       "Liabilities to Non-residents (USD)         0.472230\n",
       "Value of Imports (USD)                     0.350606\n",
       "Value of Exports (USD)                     0.335780\n",
       "Foreign Exchange (USD)                     0.317203\n",
       "Government Bonds                           0.191455\n",
       "Financial Market Prices, Equities Index    0.139858\n",
       "Lending Rate                               0.056806\n",
       "Savings Rate                               0.041555\n",
       "Name: ZAR/USD, dtype: float64"
      ]
     },
     "execution_count": 18,
     "metadata": {},
     "output_type": "execute_result"
    }
   ],
   "source": [
    "corr['ZAR/USD'].abs().sort_values(ascending= False)"
   ]
  },
  {
   "cell_type": "markdown",
   "metadata": {},
   "source": [
    "##### Question 13\n",
    "Before answering the following questions, make sure to perform the steps outlined below:\n",
    "\n",
    "Split the original DataFrame into X (features) and y (targets)   \n",
    "Standardise the entire X matrix   \n",
    "Create X_train, X_test, y_train, y_test using the same chronological 80/20 split as before   \n",
    "Train two models, “ridge” and “lasso”, which use ridge regression and LASSO, respectively   \n",
    "(in the case of the lasso model, set alpha=0.01, use default parameters for the ridge model)  \n",
    "What is the training MSE of the Ridge model?  \n",
    "\n"
   ]
  },
  {
   "cell_type": "code",
   "execution_count": 20,
   "metadata": {},
   "outputs": [
    {
     "name": "stdout",
     "output_type": "stream",
     "text": [
      "Ridge MSE : 0.040\n",
      "Lasso MSE : 0.047\n",
      "\n",
      "Ridge r-Squared : 0.9890\n",
      "Lasso r-Squared : 0.9871\n"
     ]
    }
   ],
   "source": [
    "target = 'ZAR/USD'\n",
    "y = df[target]\n",
    "X = df.drop(columns=target)\n",
    "\n",
    "#Standardizing \n",
    "scaler = StandardScaler()\n",
    "X_tranformed = scaler.fit_transform(X)\n",
    "\n",
    "X_train, X_test, y_train, y_test = train_test_split(X_tranformed,y, test_size= 0.2, shuffle= False)\n",
    "\n",
    "# Training the Lasso model\n",
    "lasso = Lasso(alpha= 0.01)\n",
    "lasso.fit(X_train, y_train)\n",
    "\n",
    "ridge = Ridge()\n",
    "ridge.fit(X_train, y_train)\n",
    "\n",
    "#Predictions\n",
    "y_pred_lasso = lasso.predict(X_train)\n",
    "y_pred_ridge = ridge.predict(X_train)\n",
    "\n",
    "#Accuracy  test \n",
    "mse_ridge = mean_squared_error(y_train,y_pred_ridge)\n",
    "mse_lasso = mean_squared_error(y_train,y_pred_lasso)\n",
    "\n",
    "print(f'Ridge MSE : {mse_ridge:.3f}')\n",
    "print(f'Lasso MSE : {mse_lasso:.3f}')\n",
    "\n",
    "#r2\n",
    "r2_ridge = r2_score(y_train,y_pred_ridge)\n",
    "r2_lasso = r2_score(y_train,y_pred_lasso)\n",
    "\n",
    "print(f'\\nRidge r-Squared : {r2_ridge:.4f}')\n",
    "print(f'Lasso r-Squared : {r2_lasso:.4f}')"
   ]
  },
  {
   "cell_type": "markdown",
   "metadata": {},
   "source": [
    "#### Question 15 &16\n",
    "What is the testing MSE of the Ridge model?\n",
    "What is the testing MSE of the LASSO model?"
   ]
  },
  {
   "cell_type": "code",
   "execution_count": 21,
   "metadata": {},
   "outputs": [
    {
     "name": "stdout",
     "output_type": "stream",
     "text": [
      "Ridge MSE : 0.632\n",
      "Lasso MSE : 0.579\n",
      "\n",
      "Ridge r-Squared : 0.2732\n",
      "Lasso r-Squared : 0.3346\n"
     ]
    }
   ],
   "source": [
    "y_pred_lasso = lasso.predict(X_test)\n",
    "y_pred_ridge = ridge.predict(X_test)\n",
    "\n",
    "#Accuracy  test \n",
    "mse_ridge = mean_squared_error(y_test,y_pred_ridge)\n",
    "mse_lasso = mean_squared_error(y_test,y_pred_lasso)\n",
    "\n",
    "print(f'Ridge MSE : {mse_ridge:.3f}')\n",
    "print(f'Lasso MSE : {mse_lasso:.3f}')\n",
    "\n",
    "#r2\n",
    "r2_ridge = r2_score(y_test,y_pred_ridge)\n",
    "r2_lasso = r2_score(y_test,y_pred_lasso)\n",
    "\n",
    "print(f'\\nRidge r-Squared : {r2_ridge:.4f}')\n",
    "print(f'Lasso r-Squared : {r2_lasso:.4f}')"
   ]
  },
  {
   "cell_type": "markdown",
   "metadata": {},
   "source": [
    "##### Question 17\n",
    "Based on the values of the Ridge model’s variable coefficients, which indicator is the best predictor of the target variable?\n"
   ]
  },
  {
   "cell_type": "code",
   "execution_count": 22,
   "metadata": {},
   "outputs": [
    {
     "data": {
      "text/plain": [
       "Value of Exports (ZAR)                     1.061183\n",
       "Value of Imports (ZAR)                     1.002528\n",
       "Value of Imports (USD)                     0.736367\n",
       "Consumer Price Index                       0.630804\n",
       "Value of Exports (USD)                     0.578656\n",
       "Lending Rate                               0.525606\n",
       "Foreign Exchange (USD)                     0.155625\n",
       "Financial Market Prices, Equities Index    0.112937\n",
       "Savings Rate                               0.087518\n",
       "Claims on Non-residents (USD)              0.068125\n",
       "IMF Reserve Position (USD)                 0.020487\n",
       "Government Bonds                           0.018772\n",
       "Liabilities to Non-residents (USD)         0.005712\n",
       "dtype: float64"
      ]
     },
     "execution_count": 22,
     "metadata": {},
     "output_type": "execute_result"
    }
   ],
   "source": [
    "feature_importance = pd.Series(abs(ridge.coef_), index = X.columns)\n",
    "feature_importance.sort_values(ascending= False)\n"
   ]
  },
  {
   "cell_type": "markdown",
   "metadata": {},
   "source": [
    "##### Question 18\n",
    "Based on the values of the Ridge model’s variable coefficients, which indicator is the worst predictor of the target variable?"
   ]
  },
  {
   "cell_type": "code",
   "execution_count": 23,
   "metadata": {},
   "outputs": [
    {
     "data": {
      "text/plain": [
       "Liabilities to Non-residents (USD)         0.005712\n",
       "Government Bonds                           0.018772\n",
       "IMF Reserve Position (USD)                 0.020487\n",
       "Claims on Non-residents (USD)              0.068125\n",
       "Savings Rate                               0.087518\n",
       "Financial Market Prices, Equities Index    0.112937\n",
       "Foreign Exchange (USD)                     0.155625\n",
       "Lending Rate                               0.525606\n",
       "Value of Exports (USD)                     0.578656\n",
       "Consumer Price Index                       0.630804\n",
       "Value of Imports (USD)                     0.736367\n",
       "Value of Imports (ZAR)                     1.002528\n",
       "Value of Exports (ZAR)                     1.061183\n",
       "dtype: float64"
      ]
     },
     "execution_count": 23,
     "metadata": {},
     "output_type": "execute_result"
    }
   ],
   "source": [
    "feature_importance = pd.Series(abs(ridge.coef_), index = X.columns)\n",
    "feature_importance.sort_values(ascending= True)"
   ]
  },
  {
   "cell_type": "markdown",
   "metadata": {},
   "source": [
    "##### Question 19 \n",
    "Based on the values of the LASSO model’s variable coefficients, which indicator is the best predictor of the target variable?"
   ]
  },
  {
   "cell_type": "code",
   "execution_count": 24,
   "metadata": {},
   "outputs": [
    {
     "data": {
      "text/plain": [
       "Value of Imports (ZAR)                     1.171819\n",
       "Value of Exports (ZAR)                     1.135450\n",
       "Value of Imports (USD)                     0.816718\n",
       "Value of Exports (USD)                     0.577647\n",
       "Consumer Price Index                       0.239314\n",
       "Lending Rate                               0.209855\n",
       "Foreign Exchange (USD)                     0.080232\n",
       "Financial Market Prices, Equities Index    0.030944\n",
       "Liabilities to Non-residents (USD)         0.030399\n",
       "IMF Reserve Position (USD)                 0.000000\n",
       "Claims on Non-residents (USD)              0.000000\n",
       "Savings Rate                               0.000000\n",
       "Government Bonds                           0.000000\n",
       "dtype: float64"
      ]
     },
     "execution_count": 24,
     "metadata": {},
     "output_type": "execute_result"
    }
   ],
   "source": [
    "feature_importance = pd.Series(abs(lasso.coef_), index = X.columns)\n",
    "feature_importance.sort_values(ascending= False)\n"
   ]
  },
  {
   "cell_type": "markdown",
   "metadata": {},
   "source": [
    "##### Question 20\n",
    "How many variables have coefficients equal to zero in the LASSO model?"
   ]
  },
  {
   "cell_type": "code",
   "execution_count": 25,
   "metadata": {},
   "outputs": [
    {
     "data": {
      "text/plain": [
       "4"
      ]
     },
     "execution_count": 25,
     "metadata": {},
     "output_type": "execute_result"
    }
   ],
   "source": [
    "sum(lasso.coef_ == 0)"
   ]
  }
 ],
 "metadata": {
  "kernelspec": {
   "display_name": "Updated_Python_Dev_ALX",
   "language": "python",
   "name": "python3"
  },
  "language_info": {
   "codemirror_mode": {
    "name": "ipython",
    "version": 3
   },
   "file_extension": ".py",
   "mimetype": "text/x-python",
   "name": "python",
   "nbconvert_exporter": "python",
   "pygments_lexer": "ipython3",
   "version": "3.12.3"
  }
 },
 "nbformat": 4,
 "nbformat_minor": 2
}
